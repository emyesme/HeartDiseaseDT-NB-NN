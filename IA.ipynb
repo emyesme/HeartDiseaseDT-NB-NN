{
 "cells": [
  {
   "cell_type": "markdown",
   "metadata": {
    "colab_type": "text",
    "id": "XZgrRx-yUjRq"
   },
   "source": [
    "# IA Heart Disease Dataset from UCI\n"
   ]
  },
  {
   "cell_type": "code",
   "execution_count": 15,
   "metadata": {
    "colab": {
     "base_uri": "https://localhost:8080/",
     "height": 399
    },
    "colab_type": "code",
    "id": "caCoDFCpUjR3",
    "outputId": "8f551aee-1f07-4f62-c274-93b06fe2ac3f"
   },
   "outputs": [
    {
     "name": "stdout",
     "output_type": "stream",
     "text": [
      "Requirement already satisfied: pydotplus in /home/emily/snap/jupyter/common/lib/python3.7/site-packages (2.0.2)\n",
      "Requirement already satisfied: pyparsing>=2.0.1 in /home/emily/snap/jupyter/common/lib/python3.7/site-packages (from pydotplus) (2.4.2)\n",
      "Requirement already satisfied: graphviz in /home/emily/snap/jupyter/common/lib/python3.7/site-packages (0.13)\n",
      "Requirement already satisfied: matplotlib in /home/emily/snap/jupyter/common/lib/python3.7/site-packages (3.1.1)\n",
      "Requirement already satisfied: kiwisolver>=1.0.1 in /home/emily/snap/jupyter/common/lib/python3.7/site-packages (from matplotlib) (1.1.0)\n",
      "Requirement already satisfied: python-dateutil>=2.1 in /snap/jupyter/6/lib/python3.7/site-packages (from matplotlib) (2.8.0)\n",
      "Requirement already satisfied: cycler>=0.10 in /home/emily/snap/jupyter/common/lib/python3.7/site-packages (from matplotlib) (0.10.0)\n",
      "Requirement already satisfied: numpy>=1.11 in /home/emily/snap/jupyter/common/lib/python3.7/site-packages (from matplotlib) (1.17.0)\n",
      "Requirement already satisfied: pyparsing!=2.0.4,!=2.1.2,!=2.1.6,>=2.0.1 in /home/emily/snap/jupyter/common/lib/python3.7/site-packages (from matplotlib) (2.4.2)\n",
      "Requirement already satisfied: setuptools in /snap/jupyter/6/lib/python3.7/site-packages (from kiwisolver>=1.0.1->matplotlib) (41.0.1)\n",
      "Requirement already satisfied: six>=1.5 in /snap/jupyter/6/lib/python3.7/site-packages (from python-dateutil>=2.1->matplotlib) (1.12.0)\n",
      "Requirement already satisfied: sklearn in /home/emily/snap/jupyter/common/lib/python3.7/site-packages (0.0)\n",
      "Requirement already satisfied: scikit-learn in /home/emily/snap/jupyter/common/lib/python3.7/site-packages (from sklearn) (0.21.3)\n",
      "Requirement already satisfied: joblib>=0.11 in /home/emily/snap/jupyter/common/lib/python3.7/site-packages (from scikit-learn->sklearn) (0.13.2)\n",
      "Requirement already satisfied: scipy>=0.17.0 in /home/emily/snap/jupyter/common/lib/python3.7/site-packages (from scikit-learn->sklearn) (1.3.1)\n",
      "Requirement already satisfied: numpy>=1.11.0 in /home/emily/snap/jupyter/common/lib/python3.7/site-packages (from scikit-learn->sklearn) (1.17.0)\n",
      "Requirement already satisfied: pandas in /home/emily/snap/jupyter/common/lib/python3.7/site-packages (0.25.0)\n",
      "Requirement already satisfied: numpy>=1.13.3 in /home/emily/snap/jupyter/common/lib/python3.7/site-packages (from pandas) (1.17.0)\n",
      "Requirement already satisfied: pytz>=2017.2 in /home/emily/snap/jupyter/common/lib/python3.7/site-packages (from pandas) (2019.2)\n",
      "Requirement already satisfied: python-dateutil>=2.6.1 in /snap/jupyter/6/lib/python3.7/site-packages (from pandas) (2.8.0)\n",
      "Requirement already satisfied: six>=1.5 in /snap/jupyter/6/lib/python3.7/site-packages (from python-dateutil>=2.6.1->pandas) (1.12.0)\n",
      "Requirement already satisfied: numpy in /home/emily/snap/jupyter/common/lib/python3.7/site-packages (1.17.0)\n"
     ]
    }
   ],
   "source": [
    "!pip install pydotplus\n",
    "!pip install graphviz\n",
    "!pip install matplotlib\n",
    "!pip install sklearn\n",
    "!pip install pandas\n",
    "!pip install numpy"
   ]
  },
  {
   "cell_type": "markdown",
   "metadata": {
    "colab_type": "text",
    "id": "aH8rc3UeUjSV"
   },
   "source": [
    "link al conjunto de datos https://www.kaggle.com/ronitf/heart-disease-uci "
   ]
  },
  {
   "cell_type": "markdown",
   "metadata": {
    "colab_type": "text",
    "id": "O_BVh0hXUjS9"
   },
   "source": [
    "## Información provista sobre el conjunto de datos\n",
    "\n",
    "Citado de el link provisto por el profesor\n",
    "\n",
    "This database contains 76 attributes, but all published experiments refer to using a subset of 14 of them. In particular, the Cleveland database is the only one that has been used by ML researchers to this date. The \"goal\" field refers to the presence of heart disease in the patient. It is integer valued from 0 (no presence) to 4. Experiments with the Cleveland database have concentrated on simply attempting to distinguish presence (values 1,2,3,4) from absence (value 0).\n",
    "\n",
    "Complete attribute documentation:\n",
    "\n",
    "1.  age: age in years \n",
    "2.  sex: sex (1 = male; 0 = female) \n",
    "3.  cp: chest pain type <br>\n",
    "    -- Value 1: typical angina<br>\n",
    "    -- Value 2: atypical angina<br>\n",
    "    -- Value 3: non-anginal pain<br>\n",
    "    -- Value 4: asymptomatic<br>\n",
    "4.  trestbps: resting blood pressure (in mm Hg on admission to the hospital) \n",
    "5.  chol: serum cholestoral in mg/dl Y\n",
    "6.  fbs: (fasting blood sugar > 120 mg/dl) (1 = true; 0 = false) \n",
    "7.  restecg: resting electrocardiographic results<br>\n",
    "    -- Value 0: normal<br>\n",
    "    -- Value 1: having ST-T wave abnormality (T wave inversions and/or ST elevation or depression of > 0.05 mV)<br>\n",
    "    -- Value 2: showing probable or definite left ventricular hypertrophy by Estes' criteria<br>\n",
    "8.  thalach: maximum heart rate achieved\n",
    "9.  exang: exercise induced angina (1 = yes; 0 = no) \n",
    "10. oldpeak = ST depression induced by exercise relative to rest \n",
    "11. slope: the slope of the peak exercise ST segment<br>\n",
    "    -- Value 1: upsloping<br>\n",
    "    -- Value 2: flat<br>\n",
    "    -- Value 3: downsloping \n",
    "12. ca: number of major vessels (0-3) colored by flourosopy \n",
    "13. thal: \n",
    "    -- 3 = normal\n",
    "    -- 6 = fixed defect\n",
    "    -- 7 = reversable defect\n",
    "14. num: diagnosis of heart disease (angiographic disease status)\n",
    "    -- Value 0: < 50% diameter narrowing\n",
    "    -- Value 1: > 50% diameter narrowing (in any major vessel: attributes"
   ]
  },
  {
   "cell_type": "code",
   "execution_count": 2,
   "metadata": {
    "colab": {},
    "colab_type": "code",
    "id": "vJ9YIroHUjSa"
   },
   "outputs": [],
   "source": [
    "from matplotlib import pyplot as plt\n",
    "import pandas as pd\n",
    "import numpy as np\n",
    "import argparse\n",
    "import glob\n",
    "from pandas import DataFrame\n",
    "import sklearn\n",
    "from sklearn import tree\n",
    "from sklearn.model_selection import train_test_split\n",
    "from sklearn.metrics import confusion_matrix\n",
    "from sklearn.naive_bayes import GaussianNB"
   ]
  },
  {
   "cell_type": "markdown",
   "metadata": {
    "colab_type": "text",
    "id": "4UJIzm6TUjSq"
   },
   "source": [
    "importando los datos"
   ]
  },
  {
   "cell_type": "code",
   "execution_count": 3,
   "metadata": {
    "colab": {},
    "colab_type": "code",
    "id": "QT0iBUTwUjSw"
   },
   "outputs": [],
   "source": [
    "dataset=pd.read_csv(\"heart.csv\")"
   ]
  },
  {
   "cell_type": "code",
   "execution_count": 4,
   "metadata": {
    "colab": {
     "base_uri": "https://localhost:8080/",
     "height": 206
    },
    "colab_type": "code",
    "id": "_AAUbvAkUjTC",
    "outputId": "8f80078c-42e2-4fb3-c63d-d1386ba619d3",
    "scrolled": true
   },
   "outputs": [
    {
     "data": {
      "text/html": [
       "<div>\n",
       "<style scoped>\n",
       "    .dataframe tbody tr th:only-of-type {\n",
       "        vertical-align: middle;\n",
       "    }\n",
       "\n",
       "    .dataframe tbody tr th {\n",
       "        vertical-align: top;\n",
       "    }\n",
       "\n",
       "    .dataframe thead th {\n",
       "        text-align: right;\n",
       "    }\n",
       "</style>\n",
       "<table border=\"1\" class=\"dataframe\">\n",
       "  <thead>\n",
       "    <tr style=\"text-align: right;\">\n",
       "      <th></th>\n",
       "      <th>age</th>\n",
       "      <th>sex</th>\n",
       "      <th>cp</th>\n",
       "      <th>trestbps</th>\n",
       "      <th>chol</th>\n",
       "      <th>fbs</th>\n",
       "      <th>restecg</th>\n",
       "      <th>thalach</th>\n",
       "      <th>exang</th>\n",
       "      <th>oldpeak</th>\n",
       "      <th>slope</th>\n",
       "      <th>ca</th>\n",
       "      <th>thal</th>\n",
       "      <th>target</th>\n",
       "    </tr>\n",
       "  </thead>\n",
       "  <tbody>\n",
       "    <tr>\n",
       "      <th>0</th>\n",
       "      <td>63</td>\n",
       "      <td>1</td>\n",
       "      <td>3</td>\n",
       "      <td>145</td>\n",
       "      <td>233</td>\n",
       "      <td>1</td>\n",
       "      <td>0</td>\n",
       "      <td>150</td>\n",
       "      <td>0</td>\n",
       "      <td>2.3</td>\n",
       "      <td>0</td>\n",
       "      <td>0</td>\n",
       "      <td>1</td>\n",
       "      <td>1</td>\n",
       "    </tr>\n",
       "    <tr>\n",
       "      <th>1</th>\n",
       "      <td>37</td>\n",
       "      <td>1</td>\n",
       "      <td>2</td>\n",
       "      <td>130</td>\n",
       "      <td>250</td>\n",
       "      <td>0</td>\n",
       "      <td>1</td>\n",
       "      <td>187</td>\n",
       "      <td>0</td>\n",
       "      <td>3.5</td>\n",
       "      <td>0</td>\n",
       "      <td>0</td>\n",
       "      <td>2</td>\n",
       "      <td>1</td>\n",
       "    </tr>\n",
       "    <tr>\n",
       "      <th>2</th>\n",
       "      <td>41</td>\n",
       "      <td>0</td>\n",
       "      <td>1</td>\n",
       "      <td>130</td>\n",
       "      <td>204</td>\n",
       "      <td>0</td>\n",
       "      <td>0</td>\n",
       "      <td>172</td>\n",
       "      <td>0</td>\n",
       "      <td>1.4</td>\n",
       "      <td>2</td>\n",
       "      <td>0</td>\n",
       "      <td>2</td>\n",
       "      <td>1</td>\n",
       "    </tr>\n",
       "    <tr>\n",
       "      <th>3</th>\n",
       "      <td>56</td>\n",
       "      <td>1</td>\n",
       "      <td>1</td>\n",
       "      <td>120</td>\n",
       "      <td>236</td>\n",
       "      <td>0</td>\n",
       "      <td>1</td>\n",
       "      <td>178</td>\n",
       "      <td>0</td>\n",
       "      <td>0.8</td>\n",
       "      <td>2</td>\n",
       "      <td>0</td>\n",
       "      <td>2</td>\n",
       "      <td>1</td>\n",
       "    </tr>\n",
       "    <tr>\n",
       "      <th>4</th>\n",
       "      <td>57</td>\n",
       "      <td>0</td>\n",
       "      <td>0</td>\n",
       "      <td>120</td>\n",
       "      <td>354</td>\n",
       "      <td>0</td>\n",
       "      <td>1</td>\n",
       "      <td>163</td>\n",
       "      <td>1</td>\n",
       "      <td>0.6</td>\n",
       "      <td>2</td>\n",
       "      <td>0</td>\n",
       "      <td>2</td>\n",
       "      <td>1</td>\n",
       "    </tr>\n",
       "  </tbody>\n",
       "</table>\n",
       "</div>"
      ],
      "text/plain": [
       "   age  sex  cp  trestbps  chol  fbs  restecg  thalach  exang  oldpeak  slope  \\\n",
       "0   63    1   3       145   233    1        0      150      0      2.3      0   \n",
       "1   37    1   2       130   250    0        1      187      0      3.5      0   \n",
       "2   41    0   1       130   204    0        0      172      0      1.4      2   \n",
       "3   56    1   1       120   236    0        1      178      0      0.8      2   \n",
       "4   57    0   0       120   354    0        1      163      1      0.6      2   \n",
       "\n",
       "   ca  thal  target  \n",
       "0   0     1       1  \n",
       "1   0     2       1  \n",
       "2   0     2       1  \n",
       "3   0     2       1  \n",
       "4   0     2       1  "
      ]
     },
     "execution_count": 4,
     "metadata": {},
     "output_type": "execute_result"
    }
   ],
   "source": [
    "dataset.head()"
   ]
  },
  {
   "cell_type": "markdown",
   "metadata": {
    "colab_type": "text",
    "id": "IdgSR0y0UjTS"
   },
   "source": [
    "Graficaremos las variables numericas y categorias"
   ]
  },
  {
   "cell_type": "markdown",
   "metadata": {
    "colab_type": "text",
    "id": "fYyH8-oqUjTW"
   },
   "source": [
    "# Variables categorias y numericas\n",
    "\n",
    "dadas las descripciones tomadas del link original podemos decir que los siguientes atributos son de tipo categorico\n",
    "- sex\n",
    "- cp\n",
    "- fbs\n",
    "- restecg \n",
    "- exang\n",
    "- slope\n",
    "- thal\n",
    "<br>y los siguientes son de tipo numerico\n",
    "- age\n",
    "- trestbps\n",
    "- chol\n",
    "- thalach \t\n",
    "- oldpeak\n",
    "- ca"
   ]
  },
  {
   "cell_type": "code",
   "execution_count": 5,
   "metadata": {
    "colab": {
     "base_uri": "https://localhost:8080/",
     "height": 322
    },
    "colab_type": "code",
    "id": "V_2UKMFuUjTd",
    "outputId": "6a28bb5a-4bcb-4906-e61a-808f1d4be6b6"
   },
   "outputs": [
    {
     "data": {
      "image/png": "[encoded data removed]",
      "text/plain": [
       "<Figure size 1080x360 with 13 Axes>"
      ]
     },
     "metadata": {
      "needs_background": "light"
     },
     "output_type": "display_data"
    }
   ],
   "source": [
    "fig, axs = plt.subplots(2, 7, figsize = (15,5))\n",
    "\n",
    "#numeric\n",
    "\n",
    "#age\n",
    "axs[0, 0].hist(dataset.age)\n",
    "axs[0, 0].set_title('age')\n",
    "#trestbps\n",
    "axs[0, 1].hist(dataset.trestbps)\n",
    "axs[0, 1].set_title('trestbps')\n",
    "#chol\n",
    "axs[0, 2].hist(dataset.chol)\n",
    "axs[0, 2].set_title('chol')\n",
    "#thalach\n",
    "axs[0, 3].hist(dataset.thalach)\n",
    "axs[0, 3].set_title('thalach')\n",
    "#oldpeak\n",
    "axs[0, 4].hist(dataset.oldpeak)\n",
    "axs[0, 4].set_title('oldpeak')\n",
    "#cat\n",
    "axs[0, 5].hist(dataset.ca)\n",
    "axs[0, 5].set_title('cat')\n",
    "\n",
    "#categoric\n",
    "\n",
    "#sex\n",
    "datasex = [dataset.sex.sum(), dataset.sex.shape[0] - dataset.sex.sum()]\n",
    "\n",
    "axs[1, 0].pie(datasex, labels = ['m','f'])\n",
    "axs[1, 0].axis('equal')\n",
    "axs[1, 0].set_title('sex')\n",
    "\n",
    "#cp\n",
    "datacp = []\n",
    "datacp.append((dataset['cp'] == 0).sum())\n",
    "datacp.append((dataset['cp'] == 1).sum())\n",
    "datacp.append((dataset['cp'] == 2).sum())\n",
    "datacp.append((dataset['cp'] == 3).sum())\n",
    "\n",
    "axs[1, 1].pie(datacp, labels =['0','1','2','3'])\n",
    "axs[1, 1].axis('equal')\n",
    "axs[1, 1].set_title('cp')\n",
    "\n",
    "#fbs\n",
    "datafbs = [dataset.fbs.sum(), dataset.fbs.shape[0] - dataset.fbs.sum()]\n",
    "\n",
    "axs[1, 2].pie(datafbs, labels = ['1', '0'])\n",
    "axs[1, 2].axis('equal')\n",
    "axs[1, 2].set_title('fbs')\n",
    "\n",
    "#restecg\n",
    "datarestecg = []\n",
    "datarestecg.append((dataset['restecg'] == 0).sum())\n",
    "datarestecg.append((dataset['restecg'] == 1).sum())\n",
    "datarestecg.append((dataset['restecg'] == 2).sum())\n",
    "\n",
    "axs[1, 3].pie(datarestecg, labels = ['0', '1', '2'])\n",
    "axs[1, 3].axis('equal')\n",
    "axs[1, 3].set_title('restecg')\n",
    "\n",
    "#exang\n",
    "dataexang = [dataset.exang.sum(), dataset.exang.shape[0] - dataset.exang.sum()]\n",
    "\n",
    "axs[1, 4].pie(dataexang, labels = ['1','0'])\n",
    "axs[1, 4].axis('equal')\n",
    "axs[1, 4].set_title('exang')\n",
    "\n",
    "#slope\n",
    "dataslope = []\n",
    "dataslope.append((dataset['slope'] == 0).sum())\n",
    "dataslope.append((dataset['slope'] == 1).sum())\n",
    "dataslope.append((dataset['slope'] == 2).sum())\n",
    "\n",
    "axs[1, 5].pie(dataslope, labels=['0','1','2'])\n",
    "axs[1, 5].axis('equal')\n",
    "axs[1, 5].set_title('slope')\n",
    "\n",
    "#thal \n",
    "datathal = []\n",
    "datathal.append((dataset['thal'] == 0).sum())\n",
    "datathal.append((dataset['thal'] == 1).sum())\n",
    "datathal.append((dataset['thal'] == 2).sum())\n",
    "datathal.append((dataset['thal'] == 3).sum())\n",
    "\n",
    "axs[1, 6].pie(datathal, labels = ['0','1','2','3'])\n",
    "axs[1, 6].axis('equal')\n",
    "axs[1, 6].set_title('thal')\n",
    "\n",
    "\n",
    "y = ['numeric','categoric']\n",
    "i = 0\n",
    "for ax in axs.flat:\n",
    "    if (i < 6):\n",
    "        ax.set(xlabel = '', ylabel=y[0])\n",
    "    else:\n",
    "        ax.set(xlabel = '', ylabel=y[1])\n",
    "    i += 1\n",
    "\n",
    "# Hide x labels and tick labels for top plots and y ticks for right plots.\n",
    "for ax in axs.flat:\n",
    "    ax.label_outer()\n",
    "    \n",
    "fig.delaxes(axs.flatten()[6])"
   ]
  },
  {
   "cell_type": "markdown",
   "metadata": {
    "colab_type": "text",
    "id": "fkKABNlqUjTq"
   },
   "source": [
    "##  Elementos faltantes\n",
    "Unicamente en la columna thal hay dos datos que no corresponden a los datos posibles de dicho atributo"
   ]
  },
  {
   "cell_type": "markdown",
   "metadata": {
    "colab_type": "text",
    "id": "WiNJX6BmUjTu"
   },
   "source": [
    "## Partimos los datos en entrenamiento y test\n",
    "80% para entrenamiento y 20% para test"
   ]
  },
  {
   "cell_type": "code",
   "execution_count": 6,
   "metadata": {
    "colab": {
     "base_uri": "https://localhost:8080/",
     "height": 52
    },
    "colab_type": "code",
    "id": "OXc3nhwWUjT0",
    "outputId": "fad773fe-af25-4fae-e148-6bddcb8a81bb"
   },
   "outputs": [
    {
     "name": "stdout",
     "output_type": "stream",
     "text": [
      "(242, 13) (242,)\n",
      "(61, 13) (61,)\n"
     ]
    }
   ],
   "source": [
    "features = dataset[[\"age\",\"sex\",\"cp\",\"trestbps\",\"chol\",\"fbs\",\"restecg\",\"thalach\",\"exang\",\"oldpeak\",\"slope\",\"ca\",\"thal\"]].values\n",
    "#features = dataset[[\"age\",\"sex\",\"cp\",\"trestbps\",\"chol\",\"fbs\",\"restecg\",\"thalach\",\"exang\",\"oldpeak\",\"slope\",\"ca\"]].values\n",
    "target = dataset[\"target\"].values\n",
    "\n",
    "\n",
    "# Split the data into train and test\n",
    "trainX, testX, trainY, testY = train_test_split(features, target, test_size=0.2)\n",
    "print(trainX.shape, trainY.shape)\n",
    "print(testX.shape, testY.shape)\n"
   ]
  },
  {
   "cell_type": "markdown",
   "metadata": {
    "colab_type": "text",
    "id": "Hu6B70a5UjUB"
   },
   "source": [
    "## Arbol de decision\n",
    "\n",
    "entrenamos el arbol de decision"
   ]
  },
  {
   "cell_type": "code",
   "execution_count": 26,
   "metadata": {
    "colab": {
     "base_uri": "https://localhost:8080/",
     "height": 89
    },
    "colab_type": "code",
    "id": "HKOBl88IUjUF",
    "outputId": "e58481f6-7803-4751-e022-3d38e33ed227"
   },
   "outputs": [
    {
     "name": "stdout",
     "output_type": "stream",
     "text": [
      "training set:  92.56198347107438 %\n",
      "test set:  78.68852459016394 %\n"
     ]
    },
    {
     "data": {
      "text/plain": [
       "'\\ndot_data = StringIO()\\nexport_graphviz(model1, out_file=dot_data,  \\n                filled=True, rounded=True,\\n                special_characters=True)\\ngraph = pydotplus.graph_from_dot_data(dot_data.getvalue())  \\nImage(graph.create_png())\\n'"
      ]
     },
     "execution_count": 26,
     "metadata": {},
     "output_type": "execute_result"
    }
   ],
   "source": [
    "#Control overfitting by setting \"max_depth\" to 10 and \"min_samples_split\" to 5 : my_tree_two\n",
    "model1 = tree.DecisionTreeClassifier(max_depth=5, min_samples_split = 5, random_state = 1)\n",
    "model1 = model1.fit(trainX, trainY)\n",
    "\n",
    "#Print the score on the train data\n",
    "print(\"training set: \", model1.score(trainX, trainY)*100, \"%\")\n",
    "#Print the score on the test data\n",
    "print(\"test set: \", model1.score(testX, testY)*100, \"%\")\n",
    "\n",
    "#tree.plot_tree(model1)\n",
    "\n",
    "from sklearn.externals.six import StringIO  \n",
    "from IPython.display import Image  \n",
    "from sklearn.tree import export_graphviz\n",
    "import pydotplus\n",
    "\n",
    "'''\n",
    "dot_data = StringIO()\n",
    "export_graphviz(model1, out_file=dot_data,  \n",
    "                filled=True, rounded=True,\n",
    "                special_characters=True)\n",
    "graph = pydotplus.graph_from_dot_data(dot_data.getvalue())  \n",
    "Image(graph.create_png())\n",
    "'''"
   ]
  },
  {
   "cell_type": "markdown",
   "metadata": {
    "colab_type": "text",
    "id": "phpaHZ4KUjUT"
   },
   "source": [
    "## Matrices de confusión"
   ]
  },
  {
   "cell_type": "code",
   "execution_count": 27,
   "metadata": {
    "colab": {
     "base_uri": "https://localhost:8080/",
     "height": 52
    },
    "colab_type": "code",
    "id": "9mhRhIcyUjUX",
    "outputId": "c59abafc-546f-43b0-dde4-02878e9621c9"
   },
   "outputs": [
    {
     "data": {
      "text/plain": [
       "array([[21,  5],\n",
       "       [ 8, 27]])"
      ]
     },
     "execution_count": 27,
     "metadata": {},
     "output_type": "execute_result"
    }
   ],
   "source": [
    "confusion_matrix(model1.predict(testX), testY)"
   ]
  },
  {
   "cell_type": "markdown",
   "metadata": {
    "colab_type": "text",
    "id": "70Uf5IrLUjUn"
   },
   "source": [
    "## Interpretación del modelo obtenido"
   ]
  },
  {
   "cell_type": "markdown",
   "metadata": {
    "colab_type": "text",
    "id": "5u9fW7ApUjUs"
   },
   "source": [
    "## Modelo de Ingenuo de Bayes\n",
    "\n",
    "Entrenamos modelo de bayes ingenuo\n"
   ]
  },
  {
   "cell_type": "code",
   "execution_count": 28,
   "metadata": {
    "colab": {
     "base_uri": "https://localhost:8080/",
     "height": 52
    },
    "colab_type": "code",
    "id": "bJEJ2_6XUjUw",
    "outputId": "92cce08d-fa10-4a4f-897d-158b46359bd9"
   },
   "outputs": [
    {
     "name": "stdout",
     "output_type": "stream",
     "text": [
      "training set:  84.71074380165288 %\n",
      "test set:  77.04918032786885 %\n"
     ]
    }
   ],
   "source": [
    "gnb = GaussianNB()\n",
    "\n",
    "model2 = gnb.fit(trainX, trainY)\n",
    "\n",
    "#Print the score on the train data\n",
    "print(\"training set: \", model2.score(trainX, trainY) * 100, \"%\")\n",
    "#Print the score on the test data\n",
    "print(\"test set: \", model2.score(testX, testY)*100, \"%\")"
   ]
  },
  {
   "cell_type": "markdown",
   "metadata": {},
   "source": [
    "## Interpretación del modelo Ingenuo de Bayes"
   ]
  },
  {
   "cell_type": "markdown",
   "metadata": {
    "colab_type": "text",
    "id": "tGY_p6N0UjU5"
   },
   "source": [
    "## Red Neuronal"
   ]
  },
  {
   "cell_type": "code",
   "execution_count": 29,
   "metadata": {
    "colab": {
     "base_uri": "https://localhost:8080/",
     "height": 173
    },
    "colab_type": "code",
    "id": "11pgdFfLUjU9",
    "outputId": "7e2788ce-8e0f-4d82-9a18-232cef93f758"
   },
   "outputs": [
    {
     "name": "stdout",
     "output_type": "stream",
     "text": [
      "On training: \n",
      "83.88429752066115 %\n",
      "[[ 91  21]\n",
      " [ 18 112]]\n",
      "\n",
      "On test: \n",
      "77.04918032786885 %\n",
      "[[24  9]\n",
      " [ 5 23]]\n"
     ]
    }
   ],
   "source": [
    "from sklearn.neural_network import MLPClassifier\n",
    "from sklearn.preprocessing import StandardScaler\n",
    "\n",
    "# NN is sensitive to data scale. We must normilize\n",
    "scaler = StandardScaler()  \n",
    "trainXX = trainX.copy()\n",
    "testXX = testX.copy()\n",
    "# Don't cheat - fit only on training data\n",
    "scaler.fit(trainX)  \n",
    "trainXX = scaler.transform(trainXX)  \n",
    "# apply same transformation to test data\n",
    "testXX = scaler.transform(testXX)  \n",
    "\n",
    "model3 = MLPClassifier(solver='lbfgs', alpha=1e-3, activation = 'relu', max_iter=5000,\n",
    "                     hidden_layer_sizes = (12,10,8,6,4,2), random_state=1, verbose = True)\n",
    "\n",
    "model3.fit(trainXX, trainY)                         \n",
    "\n",
    "#Print the score on the train data\n",
    "print(\"On training: \")\n",
    "print(model3.score(trainXX, trainY)*100, \"%\")\n",
    "print(confusion_matrix(model3.predict(trainXX), trainY))\n",
    "\n",
    "#Print the score on the test data\n",
    "print(\"\\nOn test: \")\n",
    "print(model3.score(testXX, testY)*100, \"%\")\n",
    "print(confusion_matrix(model3.predict(testXX), testY))"
   ]
  },
  {
   "cell_type": "markdown",
   "metadata": {
    "colab": {},
    "colab_type": "code",
    "id": "vci5KcqVUjVN"
   },
   "source": [
    "## Interpretación del modelo de Redes Neuronales"
   ]
  },
  {
   "cell_type": "markdown",
   "metadata": {
    "colab": {},
    "colab_type": "code",
    "id": "kth2dHPrUjVa"
   },
   "source": [
    "## Cosas que he encontrado de kernels \n",
    "\n",
    "- resting_blood_pressure is a strong factor but only in early age ishivinal kenerl top risk factors for heart diseasee\n",
    "<br>\n",
    "- dummy values created for categorical variables in the one i send myself to facebook, and de gaussian model was better with that<br>\n",
    "\n",
    "- the confussion matrix mean:<br>\n",
    "    matrix[0][0] -> true negative<br>\n",
    "    matrix[0][1] -> false positive<br>\n",
    "    matrix[1][0] -> false negative<br>\n",
    "    matrix[1][1] -> true positive<br>"
   ]
  },
  {
   "cell_type": "code",
   "execution_count": null,
   "metadata": {},
   "outputs": [],
   "source": []
  }
 ],
 "metadata": {
  "colab": {
   "name": "IA.ipynb",
   "provenance": [],
   "version": "0.3.2"
  },
  "kernelspec": {
   "display_name": "Python 3",
   "language": "python",
   "name": "python3"
  },
  "language_info": {
   "codemirror_mode": {
    "name": "ipython",
    "version": 3
   },
   "file_extension": ".py",
   "mimetype": "text/x-python",
   "name": "python",
   "nbconvert_exporter": "python",
   "pygments_lexer": "ipython3",
   "version": "3.7.3"
  }
 },
 "nbformat": 4,
 "nbformat_minor": 1
}
