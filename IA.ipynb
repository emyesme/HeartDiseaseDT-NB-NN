{
 "cells": [
  {
   "cell_type": "markdown",
   "metadata": {
    "colab_type": "text",
    "id": "XZgrRx-yUjRq"
   },
   "source": [
    "# IA Heart Disease Dataset from UCI\n"
   ]
  },
  {
   "cell_type": "code",
   "execution_count": 1,
   "metadata": {
    "colab": {
     "base_uri": "https://localhost:8080/",
     "height": 399
    },
    "colab_type": "code",
    "id": "caCoDFCpUjR3",
    "outputId": "8f551aee-1f07-4f62-c274-93b06fe2ac3f"
   },
   "outputs": [
    {
     "name": "stdout",
     "output_type": "stream",
     "text": [
      "Requirement already satisfied: pydotplus in /home/emily/snap/jupyter/common/lib/python3.7/site-packages (2.0.2)\n",
      "Requirement already satisfied: pyparsing>=2.0.1 in /home/emily/snap/jupyter/common/lib/python3.7/site-packages (from pydotplus) (2.4.2)\n",
      "Requirement already satisfied: graphviz in /home/emily/snap/jupyter/common/lib/python3.7/site-packages (0.13)\n",
      "Requirement already satisfied: matplotlib in /home/emily/snap/jupyter/common/lib/python3.7/site-packages (3.1.1)\n",
      "Requirement already satisfied: cycler>=0.10 in /home/emily/snap/jupyter/common/lib/python3.7/site-packages (from matplotlib) (0.10.0)\n",
      "Requirement already satisfied: pyparsing!=2.0.4,!=2.1.2,!=2.1.6,>=2.0.1 in /home/emily/snap/jupyter/common/lib/python3.7/site-packages (from matplotlib) (2.4.2)\n",
      "Requirement already satisfied: numpy>=1.11 in /home/emily/snap/jupyter/common/lib/python3.7/site-packages (from matplotlib) (1.17.0)\n",
      "Requirement already satisfied: kiwisolver>=1.0.1 in /home/emily/snap/jupyter/common/lib/python3.7/site-packages (from matplotlib) (1.1.0)\n",
      "Requirement already satisfied: python-dateutil>=2.1 in /snap/jupyter/6/lib/python3.7/site-packages (from matplotlib) (2.8.0)\n",
      "Requirement already satisfied: six in /snap/jupyter/6/lib/python3.7/site-packages (from cycler>=0.10->matplotlib) (1.12.0)\n",
      "Requirement already satisfied: setuptools in /snap/jupyter/6/lib/python3.7/site-packages (from kiwisolver>=1.0.1->matplotlib) (41.0.1)\n",
      "Requirement already satisfied: scipy in /home/emily/snap/jupyter/common/lib/python3.7/site-packages (1.3.1)\n",
      "Requirement already satisfied: numpy>=1.13.3 in /home/emily/snap/jupyter/common/lib/python3.7/site-packages (from scipy) (1.17.0)\n",
      "Requirement already satisfied: sklearn in /home/emily/snap/jupyter/common/lib/python3.7/site-packages (0.0)\n",
      "Requirement already satisfied: scikit-learn in /home/emily/snap/jupyter/common/lib/python3.7/site-packages (from sklearn) (0.21.3)\n",
      "Requirement already satisfied: numpy>=1.11.0 in /home/emily/snap/jupyter/common/lib/python3.7/site-packages (from scikit-learn->sklearn) (1.17.0)\n",
      "Requirement already satisfied: scipy>=0.17.0 in /home/emily/snap/jupyter/common/lib/python3.7/site-packages (from scikit-learn->sklearn) (1.3.1)\n",
      "Requirement already satisfied: joblib>=0.11 in /home/emily/snap/jupyter/common/lib/python3.7/site-packages (from scikit-learn->sklearn) (0.13.2)\n",
      "Requirement already satisfied: pandas in /home/emily/snap/jupyter/common/lib/python3.7/site-packages (0.25.0)\n",
      "Requirement already satisfied: pytz>=2017.2 in /home/emily/snap/jupyter/common/lib/python3.7/site-packages (from pandas) (2019.2)\n",
      "Requirement already satisfied: numpy>=1.13.3 in /home/emily/snap/jupyter/common/lib/python3.7/site-packages (from pandas) (1.17.0)\n",
      "Requirement already satisfied: python-dateutil>=2.6.1 in /snap/jupyter/6/lib/python3.7/site-packages (from pandas) (2.8.0)\n",
      "Requirement already satisfied: six>=1.5 in /snap/jupyter/6/lib/python3.7/site-packages (from python-dateutil>=2.6.1->pandas) (1.12.0)\n",
      "Requirement already satisfied: numpy in /home/emily/snap/jupyter/common/lib/python3.7/site-packages (1.17.0)\n"
     ]
    }
   ],
   "source": [
    "!pip install pydotplus\n",
    "!pip install graphviz\n",
    "!pip install matplotlib\n",
    "!pip install scipy\n",
    "!pip install sklearn\n",
    "!pip install pandas\n",
    "!pip install numpy"
   ]
  },
  {
   "cell_type": "markdown",
   "metadata": {
    "colab_type": "text",
    "id": "aH8rc3UeUjSV"
   },
   "source": [
    "link al conjunto de datos https://www.kaggle.com/ronitf/heart-disease-uci "
   ]
  },
  {
   "cell_type": "markdown",
   "metadata": {
    "colab_type": "text",
    "id": "O_BVh0hXUjS9"
   },
   "source": [
    "## Información provista sobre el conjunto de datos\n",
    "\n",
    "Citado de el link provisto por el profesor\n",
    "\n",
    "This database contains 76 attributes, but all published experiments refer to using a subset of 14 of them. In particular, the Cleveland database is the only one that has been used by ML researchers to this date. The \"goal\" field refers to the presence of heart disease in the patient. It is integer valued from 0 (no presence) to 4. Experiments with the Cleveland database have concentrated on simply attempting to distinguish presence (values 1,2,3,4) from absence (value 0).\n",
    "\n",
    "Complete attribute documentation:\n",
    "\n",
    "1.  age: age in years \n",
    "2.  sex: sex (1 = male; 0 = female) \n",
    "3.  cp: chest pain type <br>\n",
    "    -- Value 1: typical angina<br>\n",
    "    -- Value 2: atypical angina<br>\n",
    "    -- Value 3: non-anginal pain<br>\n",
    "    -- Value 4: asymptomatic<br>\n",
    "4.  trestbps: resting blood pressure (in mm Hg on admission to the hospital) \n",
    "5.  chol: serum cholestoral in mg/dl Y\n",
    "6.  fbs: (fasting blood sugar > 120 mg/dl) (1 = true; 0 = false) \n",
    "7.  restecg: resting electrocardiographic results<br>\n",
    "    -- Value 0: normal<br>\n",
    "    -- Value 1: having ST-T wave abnormality (T wave inversions and/or ST elevation or depression of > 0.05 mV)<br>\n",
    "    -- Value 2: showing probable or definite left ventricular hypertrophy by Estes' criteria<br>\n",
    "8.  thalach: maximum heart rate achieved\n",
    "9.  exang: exercise induced angina (1 = yes; 0 = no) \n",
    "10. oldpeak = ST depression induced by exercise relative to rest \n",
    "11. slope: the slope of the peak exercise ST segment<br>\n",
    "    -- Value 1: upsloping<br>\n",
    "    -- Value 2: flat<br>\n",
    "    -- Value 3: downsloping \n",
    "12. ca: number of major vessels (0-3) colored by flourosopy \n",
    "13. thal: \n",
    "    -- 3 = normal\n",
    "    -- 6 = fixed defect\n",
    "    -- 7 = reversable defect\n",
    "14. num: diagnosis of heart disease (angiographic disease status)\n",
    "    -- Value 0: < 50% diameter narrowing\n",
    "    -- Value 1: > 50% diameter narrowing (in any major vessel: attributes"
   ]
  },
  {
   "cell_type": "code",
   "execution_count": 2,
   "metadata": {
    "colab": {},
    "colab_type": "code",
    "id": "vJ9YIroHUjSa"
   },
   "outputs": [
    {
     "name": "stderr",
     "output_type": "stream",
     "text": [
      "/home/emily/snap/jupyter/common/lib/python3.7/site-packages/sklearn/externals/six.py:31: DeprecationWarning: The module is deprecated in version 0.21 and will be removed in version 0.23 since we've dropped support for Python 2.7. Please rely on the official version of six (https://pypi.org/project/six/).\n",
      "  \"(https://pypi.org/project/six/).\", DeprecationWarning)\n"
     ]
    }
   ],
   "source": [
    "import matplotlib\n",
    "from matplotlib import pyplot as plt\n",
    "import pandas as pd\n",
    "import numpy as np\n",
    "import argparse\n",
    "import glob\n",
    "from pandas import DataFrame\n",
    "import sklearn\n",
    "from sklearn import tree, metrics\n",
    "from sklearn.model_selection import train_test_split\n",
    "from sklearn.metrics import confusion_matrix\n",
    "from sklearn.naive_bayes import GaussianNB\n",
    "\n",
    "#Necesario para graficar el arbol de decision\n",
    "from sklearn.externals.six import StringIO  \n",
    "from IPython.display import Image  \n",
    "from sklearn.tree import export_graphviz\n",
    "import pydotplus"
   ]
  },
  {
   "cell_type": "markdown",
   "metadata": {
    "colab_type": "text",
    "id": "4UJIzm6TUjSq"
   },
   "source": [
    "importando los datos"
   ]
  },
  {
   "cell_type": "code",
   "execution_count": 3,
   "metadata": {
    "colab": {},
    "colab_type": "code",
    "id": "QT0iBUTwUjSw"
   },
   "outputs": [],
   "source": [
    "dataset=pd.read_csv(\"heart.csv\")"
   ]
  },
  {
   "cell_type": "code",
   "execution_count": 4,
   "metadata": {},
   "outputs": [
    {
     "data": {
      "text/html": [
       "<div>\n",
       "<style scoped>\n",
       "    .dataframe tbody tr th:only-of-type {\n",
       "        vertical-align: middle;\n",
       "    }\n",
       "\n",
       "    .dataframe tbody tr th {\n",
       "        vertical-align: top;\n",
       "    }\n",
       "\n",
       "    .dataframe thead th {\n",
       "        text-align: right;\n",
       "    }\n",
       "</style>\n",
       "<table border=\"1\" class=\"dataframe\">\n",
       "  <thead>\n",
       "    <tr style=\"text-align: right;\">\n",
       "      <th></th>\n",
       "      <th>age</th>\n",
       "      <th>sex</th>\n",
       "      <th>cp</th>\n",
       "      <th>trestbps</th>\n",
       "      <th>chol</th>\n",
       "      <th>fbs</th>\n",
       "      <th>restecg</th>\n",
       "      <th>thalach</th>\n",
       "      <th>exang</th>\n",
       "      <th>oldpeak</th>\n",
       "      <th>slope</th>\n",
       "      <th>ca</th>\n",
       "      <th>thal</th>\n",
       "      <th>target</th>\n",
       "    </tr>\n",
       "  </thead>\n",
       "  <tbody>\n",
       "    <tr>\n",
       "      <th>0</th>\n",
       "      <td>63</td>\n",
       "      <td>1</td>\n",
       "      <td>3</td>\n",
       "      <td>145</td>\n",
       "      <td>233</td>\n",
       "      <td>1</td>\n",
       "      <td>0</td>\n",
       "      <td>150</td>\n",
       "      <td>0</td>\n",
       "      <td>2.3</td>\n",
       "      <td>0</td>\n",
       "      <td>0</td>\n",
       "      <td>1</td>\n",
       "      <td>1</td>\n",
       "    </tr>\n",
       "    <tr>\n",
       "      <th>1</th>\n",
       "      <td>37</td>\n",
       "      <td>1</td>\n",
       "      <td>2</td>\n",
       "      <td>130</td>\n",
       "      <td>250</td>\n",
       "      <td>0</td>\n",
       "      <td>1</td>\n",
       "      <td>187</td>\n",
       "      <td>0</td>\n",
       "      <td>3.5</td>\n",
       "      <td>0</td>\n",
       "      <td>0</td>\n",
       "      <td>2</td>\n",
       "      <td>1</td>\n",
       "    </tr>\n",
       "    <tr>\n",
       "      <th>2</th>\n",
       "      <td>41</td>\n",
       "      <td>0</td>\n",
       "      <td>1</td>\n",
       "      <td>130</td>\n",
       "      <td>204</td>\n",
       "      <td>0</td>\n",
       "      <td>0</td>\n",
       "      <td>172</td>\n",
       "      <td>0</td>\n",
       "      <td>1.4</td>\n",
       "      <td>2</td>\n",
       "      <td>0</td>\n",
       "      <td>2</td>\n",
       "      <td>1</td>\n",
       "    </tr>\n",
       "    <tr>\n",
       "      <th>3</th>\n",
       "      <td>56</td>\n",
       "      <td>1</td>\n",
       "      <td>1</td>\n",
       "      <td>120</td>\n",
       "      <td>236</td>\n",
       "      <td>0</td>\n",
       "      <td>1</td>\n",
       "      <td>178</td>\n",
       "      <td>0</td>\n",
       "      <td>0.8</td>\n",
       "      <td>2</td>\n",
       "      <td>0</td>\n",
       "      <td>2</td>\n",
       "      <td>1</td>\n",
       "    </tr>\n",
       "    <tr>\n",
       "      <th>4</th>\n",
       "      <td>57</td>\n",
       "      <td>0</td>\n",
       "      <td>0</td>\n",
       "      <td>120</td>\n",
       "      <td>354</td>\n",
       "      <td>0</td>\n",
       "      <td>1</td>\n",
       "      <td>163</td>\n",
       "      <td>1</td>\n",
       "      <td>0.6</td>\n",
       "      <td>2</td>\n",
       "      <td>0</td>\n",
       "      <td>2</td>\n",
       "      <td>1</td>\n",
       "    </tr>\n",
       "    <tr>\n",
       "      <th>5</th>\n",
       "      <td>57</td>\n",
       "      <td>1</td>\n",
       "      <td>0</td>\n",
       "      <td>140</td>\n",
       "      <td>192</td>\n",
       "      <td>0</td>\n",
       "      <td>1</td>\n",
       "      <td>148</td>\n",
       "      <td>0</td>\n",
       "      <td>0.4</td>\n",
       "      <td>1</td>\n",
       "      <td>0</td>\n",
       "      <td>1</td>\n",
       "      <td>1</td>\n",
       "    </tr>\n",
       "    <tr>\n",
       "      <th>6</th>\n",
       "      <td>56</td>\n",
       "      <td>0</td>\n",
       "      <td>1</td>\n",
       "      <td>140</td>\n",
       "      <td>294</td>\n",
       "      <td>0</td>\n",
       "      <td>0</td>\n",
       "      <td>153</td>\n",
       "      <td>0</td>\n",
       "      <td>1.3</td>\n",
       "      <td>1</td>\n",
       "      <td>0</td>\n",
       "      <td>2</td>\n",
       "      <td>1</td>\n",
       "    </tr>\n",
       "    <tr>\n",
       "      <th>7</th>\n",
       "      <td>44</td>\n",
       "      <td>1</td>\n",
       "      <td>1</td>\n",
       "      <td>120</td>\n",
       "      <td>263</td>\n",
       "      <td>0</td>\n",
       "      <td>1</td>\n",
       "      <td>173</td>\n",
       "      <td>0</td>\n",
       "      <td>0.0</td>\n",
       "      <td>2</td>\n",
       "      <td>0</td>\n",
       "      <td>3</td>\n",
       "      <td>1</td>\n",
       "    </tr>\n",
       "    <tr>\n",
       "      <th>8</th>\n",
       "      <td>52</td>\n",
       "      <td>1</td>\n",
       "      <td>2</td>\n",
       "      <td>172</td>\n",
       "      <td>199</td>\n",
       "      <td>1</td>\n",
       "      <td>1</td>\n",
       "      <td>162</td>\n",
       "      <td>0</td>\n",
       "      <td>0.5</td>\n",
       "      <td>2</td>\n",
       "      <td>0</td>\n",
       "      <td>3</td>\n",
       "      <td>1</td>\n",
       "    </tr>\n",
       "    <tr>\n",
       "      <th>9</th>\n",
       "      <td>57</td>\n",
       "      <td>1</td>\n",
       "      <td>2</td>\n",
       "      <td>150</td>\n",
       "      <td>168</td>\n",
       "      <td>0</td>\n",
       "      <td>1</td>\n",
       "      <td>174</td>\n",
       "      <td>0</td>\n",
       "      <td>1.6</td>\n",
       "      <td>2</td>\n",
       "      <td>0</td>\n",
       "      <td>2</td>\n",
       "      <td>1</td>\n",
       "    </tr>\n",
       "  </tbody>\n",
       "</table>\n",
       "</div>"
      ],
      "text/plain": [
       "   age  sex  cp  trestbps  chol  fbs  restecg  thalach  exang  oldpeak  slope  \\\n",
       "0   63    1   3       145   233    1        0      150      0      2.3      0   \n",
       "1   37    1   2       130   250    0        1      187      0      3.5      0   \n",
       "2   41    0   1       130   204    0        0      172      0      1.4      2   \n",
       "3   56    1   1       120   236    0        1      178      0      0.8      2   \n",
       "4   57    0   0       120   354    0        1      163      1      0.6      2   \n",
       "5   57    1   0       140   192    0        1      148      0      0.4      1   \n",
       "6   56    0   1       140   294    0        0      153      0      1.3      1   \n",
       "7   44    1   1       120   263    0        1      173      0      0.0      2   \n",
       "8   52    1   2       172   199    1        1      162      0      0.5      2   \n",
       "9   57    1   2       150   168    0        1      174      0      1.6      2   \n",
       "\n",
       "   ca  thal  target  \n",
       "0   0     1       1  \n",
       "1   0     2       1  \n",
       "2   0     2       1  \n",
       "3   0     2       1  \n",
       "4   0     2       1  \n",
       "5   0     1       1  \n",
       "6   0     2       1  \n",
       "7   0     3       1  \n",
       "8   0     3       1  \n",
       "9   0     2       1  "
      ]
     },
     "execution_count": 4,
     "metadata": {},
     "output_type": "execute_result"
    }
   ],
   "source": [
    "dataset.head(10)"
   ]
  },
  {
   "cell_type": "markdown",
   "metadata": {
    "colab_type": "text",
    "id": "IdgSR0y0UjTS"
   },
   "source": [
    "Graficaremos las variables numericas y categorias"
   ]
  },
  {
   "cell_type": "markdown",
   "metadata": {
    "colab_type": "text",
    "id": "fYyH8-oqUjTW"
   },
   "source": [
    "## Variables Categoricas\n",
    "\n",
    "Las variables categóricas también se denominan variables cualitativas o variables de atributos. Los valores de una variable categórica son categorías o grupos mutuamente excluyentes. Los datos categóricos pueden tener o no tener un orden lógico. \n",
    "\n",
    "## Variables numericas\n",
    "\n",
    "Las variables numericas\n",
    "\n",
    "## Clasificando las variables\n",
    "\n",
    "Dadas las descripciones dadas de los datos del dataset y la definición de lo que es una variable categorica podemos decir que los siguientes atributos son de tipo categorico\n",
    "- sex\n",
    "- cp\n",
    "- fbs\n",
    "- restecg \n",
    "- exang\n",
    "- slope\n",
    "- thal\n",
    "<br>y los siguientes son de tipo numerico\n",
    "- age\n",
    "- trestbps\n",
    "- chol\n",
    "- thalach \t\n",
    "- oldpeak\n",
    "- ca"
   ]
  },
  {
   "cell_type": "code",
   "execution_count": 5,
   "metadata": {
    "colab": {
     "base_uri": "https://localhost:8080/",
     "height": 322
    },
    "colab_type": "code",
    "id": "V_2UKMFuUjTd",
    "outputId": "6a28bb5a-4bcb-4906-e61a-808f1d4be6b6"
   },
   "outputs": [
    {
     "data": {
      "image/png": "[encoded data removed]",
      "text/plain": [
       "<Figure size 1080x360 with 13 Axes>"
      ]
     },
     "metadata": {
      "needs_background": "light"
     },
     "output_type": "display_data"
    }
   ],
   "source": [
    "fig, axs = plt.subplots(2, 7, figsize = (15,5))\n",
    "\n",
    "#numeric\n",
    "\n",
    "#age\n",
    "axs[0, 0].hist(dataset.age)\n",
    "axs[0, 0].set_title('age')\n",
    "#trestbps\n",
    "axs[0, 1].hist(dataset.trestbps)\n",
    "axs[0, 1].set_title('trestbps')\n",
    "#chol\n",
    "axs[0, 2].hist(dataset.chol)\n",
    "axs[0, 2].set_title('chol')\n",
    "#thalach\n",
    "axs[0, 3].hist(dataset.thalach)\n",
    "axs[0, 3].set_title('thalach')\n",
    "#oldpeak\n",
    "axs[0, 4].hist(dataset.oldpeak)\n",
    "axs[0, 4].set_title('oldpeak')\n",
    "#cat\n",
    "axs[0, 5].hist(dataset.ca)\n",
    "axs[0, 5].set_title('cat')\n",
    "\n",
    "#categoric\n",
    "\n",
    "#sex\n",
    "datasex = [dataset.sex.sum(), dataset.sex.shape[0] - dataset.sex.sum()]\n",
    "\n",
    "axs[1, 0].pie(datasex, labels = ['m','f'])\n",
    "axs[1, 0].axis('equal')\n",
    "axs[1, 0].set_title('sex')\n",
    "\n",
    "#cp\n",
    "datacp = []\n",
    "datacp.append((dataset['cp'] == 0).sum())\n",
    "datacp.append((dataset['cp'] == 1).sum())\n",
    "datacp.append((dataset['cp'] == 2).sum())\n",
    "datacp.append((dataset['cp'] == 3).sum())\n",
    "\n",
    "axs[1, 1].pie(datacp, labels =['0','1','2','3'])\n",
    "axs[1, 1].axis('equal')\n",
    "axs[1, 1].set_title('cp')\n",
    "\n",
    "#fbs\n",
    "datafbs = [dataset.fbs.sum(), dataset.fbs.shape[0] - dataset.fbs.sum()]\n",
    "\n",
    "axs[1, 2].pie(datafbs, labels = ['1', '0'])\n",
    "axs[1, 2].axis('equal')\n",
    "axs[1, 2].set_title('fbs')\n",
    "\n",
    "#restecg\n",
    "datarestecg = []\n",
    "datarestecg.append((dataset['restecg'] == 0).sum())\n",
    "datarestecg.append((dataset['restecg'] == 1).sum())\n",
    "datarestecg.append((dataset['restecg'] == 2).sum())\n",
    "\n",
    "axs[1, 3].pie(datarestecg, labels = ['0', '1', '2'])\n",
    "axs[1, 3].axis('equal')\n",
    "axs[1, 3].set_title('restecg')\n",
    "\n",
    "#exang\n",
    "dataexang = [dataset.exang.sum(), dataset.exang.shape[0] - dataset.exang.sum()]\n",
    "\n",
    "axs[1, 4].pie(dataexang, labels = ['1','0'])\n",
    "axs[1, 4].axis('equal')\n",
    "axs[1, 4].set_title('exang')\n",
    "\n",
    "#slope\n",
    "dataslope = []\n",
    "dataslope.append((dataset['slope'] == 0).sum())\n",
    "dataslope.append((dataset['slope'] == 1).sum())\n",
    "dataslope.append((dataset['slope'] == 2).sum())\n",
    "\n",
    "axs[1, 5].pie(dataslope, labels=['0','1','2'])\n",
    "axs[1, 5].axis('equal')\n",
    "axs[1, 5].set_title('slope')\n",
    "\n",
    "#thal \n",
    "datathal = []\n",
    "datathal.append((dataset['thal'] == 0).sum())\n",
    "datathal.append((dataset['thal'] == 1).sum())\n",
    "datathal.append((dataset['thal'] == 2).sum())\n",
    "datathal.append((dataset['thal'] == 3).sum())\n",
    "\n",
    "axs[1, 6].pie(datathal, labels = ['0','1','2','3'])\n",
    "axs[1, 6].axis('equal')\n",
    "axs[1, 6].set_title('thal')\n",
    "\n",
    "\n",
    "y = ['numeric','categoric']\n",
    "i = 0\n",
    "for ax in axs.flat:\n",
    "    if (i < 6):\n",
    "        ax.set(xlabel = '', ylabel=y[0])\n",
    "    else:\n",
    "        ax.set(xlabel = '', ylabel=y[1])\n",
    "    i += 1\n",
    "\n",
    "# Hide x labels and tick labels for top plots and y ticks for right plots.\n",
    "for ax in axs.flat:\n",
    "    ax.label_outer()\n",
    "    \n",
    "fig.delaxes(axs.flatten()[6])"
   ]
  },
  {
   "cell_type": "markdown",
   "metadata": {
    "colab_type": "text",
    "id": "fkKABNlqUjTq"
   },
   "source": [
    "##  Elementos faltantes\n",
    "\n",
    "Veremos si hay datos nulos en el conjunto de datos"
   ]
  },
  {
   "cell_type": "code",
   "execution_count": 16,
   "metadata": {},
   "outputs": [
    {
     "name": "stdout",
     "output_type": "stream",
     "text": [
      "0\n"
     ]
    }
   ],
   "source": [
    "print(dataset.isnull().sum().sum())"
   ]
  },
  {
   "cell_type": "markdown",
   "metadata": {},
   "source": [
    "Como no hay datos nulos entonces no hay necesidad de llenarlo u obviarlos de los siguientes pasos."
   ]
  },
  {
   "cell_type": "markdown",
   "metadata": {
    "colab_type": "text",
    "id": "WiNJX6BmUjTu"
   },
   "source": [
    "## Partimos los datos en entrenamiento y test\n",
    "80% para entrenamiento y 20% para test"
   ]
  },
  {
   "cell_type": "code",
   "execution_count": 6,
   "metadata": {
    "colab": {
     "base_uri": "https://localhost:8080/",
     "height": 52
    },
    "colab_type": "code",
    "id": "OXc3nhwWUjT0",
    "outputId": "fad773fe-af25-4fae-e148-6bddcb8a81bb"
   },
   "outputs": [
    {
     "name": "stdout",
     "output_type": "stream",
     "text": [
      "Conjunto de entrenamiento: \n",
      "cantidad de registros:  242\n",
      "cantidad de columnas:  13\n",
      "cantidad de registro target:  242\n",
      "\n",
      "Conjunto de prueba: \n",
      "cantidad de registros:  61\n",
      "cantidad de columnas:  13\n",
      "cantidad de registros target:  61\n"
     ]
    }
   ],
   "source": [
    "columnsTitles = [\"age\",\"sex\",\"cp\",\"trestbps\",\"chol\",\"fbs\",\"restecg\",\"thalach\",\"exang\",\"oldpeak\",\"slope\",\"ca\",\"thal\"]\n",
    "features = dataset[columnsTitles].values\n",
    "target = dataset[\"target\"].values\n",
    "\n",
    "# Split the data into train and test\n",
    "trainX, testX, trainY, testY = train_test_split(features, target, test_size=0.2)\n",
    "print(\"Conjunto de entrenamiento: \")\n",
    "print(\"cantidad de registros: \", trainX.shape[0])\n",
    "print(\"cantidad de columnas: \", trainX.shape[1])\n",
    "print(\"cantidad de registro target: \", trainY.shape[0])\n",
    "print(\"\\nConjunto de prueba: \")\n",
    "print(\"cantidad de registros: \", testX.shape[0])\n",
    "print(\"cantidad de columnas: \", testX.shape[1])\n",
    "print(\"cantidad de registros target: \", testY.shape[0])\n"
   ]
  },
  {
   "cell_type": "markdown",
   "metadata": {
    "colab_type": "text",
    "id": "Hu6B70a5UjUB"
   },
   "source": [
    "## Arbol de decision y matriz de confusión\n",
    "\n",
    "entrenamos el arbol de decisión."
   ]
  },
  {
   "cell_type": "code",
   "execution_count": 7,
   "metadata": {
    "colab": {
     "base_uri": "https://localhost:8080/",
     "height": 89
    },
    "colab_type": "code",
    "id": "HKOBl88IUjUF",
    "outputId": "e58481f6-7803-4751-e022-3d38e33ed227"
   },
   "outputs": [
    {
     "name": "stdout",
     "output_type": "stream",
     "text": [
      "training set:  98.34710743801654 %\n",
      "test set:  72.1311475409836 %\n",
      "confusion matrix: \n",
      "[[12  7]\n",
      " [10 32]]\n"
     ]
    },
    {
     "data": {
      "text/plain": [
       "Text(0.5, 1.0, 'Matriz de Confusión')"
      ]
     },
     "execution_count": 7,
     "metadata": {},
     "output_type": "execute_result"
    },
    {
     "data": {
      "image/png": "[encoded data removed]",
      "text/plain": [
       "<Figure size 432x288 with 1 Axes>"
      ]
     },
     "metadata": {
      "needs_background": "light"
     },
     "output_type": "display_data"
    }
   ],
   "source": [
    "#Control overfitting by setting \"max_depth\" to 10 and \"min_samples_split\" to 5 : my_tree_two\n",
    "modelDesicionTree = tree.DecisionTreeClassifier(max_depth=10, min_samples_split = 5, random_state = 42)\n",
    "modelDesicionTree = modelDesicionTree.fit(trainX, trainY)\n",
    "\n",
    "#Print the score on the train data\n",
    "print(\"training set: \", modelDesicionTree.score(trainX, trainY)*100, \"%\")\n",
    "#Print the score on the test data\n",
    "print(\"test set: \", modelDesicionTree.score(testX, testY)*100, \"%\")\n",
    "\n",
    "matrixDecisionTree = confusion_matrix(modelDesicionTree.predict(testX), testY)\n",
    "\n",
    "print(\"confusion matrix: \")\n",
    "print(matrixDecisionTree)\n",
    "#graph of the confusion matrix\n",
    "label = [0,1]\n",
    "\n",
    "_X = np.arange(len(label))\n",
    "\n",
    "x = [matrixDecisionTree[0][0], matrixDecisionTree[1][0]]\n",
    "y = [matrixDecisionTree[0][1], matrixDecisionTree[1][1]]\n",
    "\n",
    "training = plt.bar(_X-0.1,x, width=0.2, align='center')\n",
    "test = plt.bar(_X+0.1,y, width=0.2,  align='center')\n",
    "plt.xticks(np.arange(2), ['enfermos','no enfermos'])\n",
    "\n",
    "def autolabel(rects, bars):\n",
    "    for rect,bar in zip(rects,bars):\n",
    "        height = rect.get_height()\n",
    "        plt.text(rect.get_x() + rect.get_width() / 2, height + 0.1, bar,ha='center', va='bottom')\n",
    "\n",
    "autolabel(training,[\"bien\",\"mal\"])\n",
    "autolabel(test,[\"mal\", \"bien\"])\n",
    "\n",
    "plt.title('Matriz de Confusión')"
   ]
  },
  {
   "cell_type": "markdown",
   "metadata": {},
   "source": [
    "## Graficamos el arbol de decision"
   ]
  },
  {
   "cell_type": "code",
   "execution_count": 9,
   "metadata": {},
   "outputs": [
    {
     "ename": "InvocationException",
     "evalue": "GraphViz's executables not found",
     "output_type": "error",
     "traceback": [
      "\u001b[0;31m---------------------------------------------------------------------------\u001b[0m",
      "\u001b[0;31mInvocationException\u001b[0m                       Traceback (most recent call last)",
      "\u001b[0;32m<ipython-input-9-25c227a1f0b3>\u001b[0m in \u001b[0;36m<module>\u001b[0;34m\u001b[0m\n\u001b[1;32m      8\u001b[0m                 special_characters=True)\n\u001b[1;32m      9\u001b[0m \u001b[0mgraph\u001b[0m \u001b[0;34m=\u001b[0m \u001b[0mpydotplus\u001b[0m\u001b[0;34m.\u001b[0m\u001b[0mgraph_from_dot_data\u001b[0m\u001b[0;34m(\u001b[0m\u001b[0mdot_data\u001b[0m\u001b[0;34m.\u001b[0m\u001b[0mgetvalue\u001b[0m\u001b[0;34m(\u001b[0m\u001b[0;34m)\u001b[0m\u001b[0;34m)\u001b[0m\u001b[0;34m\u001b[0m\u001b[0;34m\u001b[0m\u001b[0m\n\u001b[0;32m---> 10\u001b[0;31m \u001b[0mImage\u001b[0m\u001b[0;34m(\u001b[0m\u001b[0mgraph\u001b[0m\u001b[0;34m.\u001b[0m\u001b[0mcreate_png\u001b[0m\u001b[0;34m(\u001b[0m\u001b[0;34m)\u001b[0m\u001b[0;34m)\u001b[0m\u001b[0;34m\u001b[0m\u001b[0;34m\u001b[0m\u001b[0m\n\u001b[0m",
      "\u001b[0;32m/home/emily/snap/jupyter/common/lib/python3.7/site-packages/pydotplus/graphviz.py\u001b[0m in \u001b[0;36m<lambda>\u001b[0;34m(f, prog)\u001b[0m\n\u001b[1;32m   1795\u001b[0m             self.__setattr__(\n\u001b[1;32m   1796\u001b[0m                 \u001b[0;34m'create_'\u001b[0m \u001b[0;34m+\u001b[0m \u001b[0mfrmt\u001b[0m\u001b[0;34m,\u001b[0m\u001b[0;34m\u001b[0m\u001b[0;34m\u001b[0m\u001b[0m\n\u001b[0;32m-> 1797\u001b[0;31m                 \u001b[0;32mlambda\u001b[0m \u001b[0mf\u001b[0m\u001b[0;34m=\u001b[0m\u001b[0mfrmt\u001b[0m\u001b[0;34m,\u001b[0m \u001b[0mprog\u001b[0m\u001b[0;34m=\u001b[0m\u001b[0mself\u001b[0m\u001b[0;34m.\u001b[0m\u001b[0mprog\u001b[0m\u001b[0;34m:\u001b[0m \u001b[0mself\u001b[0m\u001b[0;34m.\u001b[0m\u001b[0mcreate\u001b[0m\u001b[0;34m(\u001b[0m\u001b[0mformat\u001b[0m\u001b[0;34m=\u001b[0m\u001b[0mf\u001b[0m\u001b[0;34m,\u001b[0m \u001b[0mprog\u001b[0m\u001b[0;34m=\u001b[0m\u001b[0mprog\u001b[0m\u001b[0;34m)\u001b[0m\u001b[0;34m\u001b[0m\u001b[0;34m\u001b[0m\u001b[0m\n\u001b[0m\u001b[1;32m   1798\u001b[0m             )\n\u001b[1;32m   1799\u001b[0m             \u001b[0mf\u001b[0m \u001b[0;34m=\u001b[0m \u001b[0mself\u001b[0m\u001b[0;34m.\u001b[0m\u001b[0m__dict__\u001b[0m\u001b[0;34m[\u001b[0m\u001b[0;34m'create_'\u001b[0m \u001b[0;34m+\u001b[0m \u001b[0mfrmt\u001b[0m\u001b[0;34m]\u001b[0m\u001b[0;34m\u001b[0m\u001b[0;34m\u001b[0m\u001b[0m\n",
      "\u001b[0;32m/home/emily/snap/jupyter/common/lib/python3.7/site-packages/pydotplus/graphviz.py\u001b[0m in \u001b[0;36mcreate\u001b[0;34m(self, prog, format)\u001b[0m\n\u001b[1;32m   1958\u001b[0m             \u001b[0;32mif\u001b[0m \u001b[0mself\u001b[0m\u001b[0;34m.\u001b[0m\u001b[0mprogs\u001b[0m \u001b[0;32mis\u001b[0m \u001b[0;32mNone\u001b[0m\u001b[0;34m:\u001b[0m\u001b[0;34m\u001b[0m\u001b[0;34m\u001b[0m\u001b[0m\n\u001b[1;32m   1959\u001b[0m                 raise InvocationException(\n\u001b[0;32m-> 1960\u001b[0;31m                     'GraphViz\\'s executables not found')\n\u001b[0m\u001b[1;32m   1961\u001b[0m \u001b[0;34m\u001b[0m\u001b[0m\n\u001b[1;32m   1962\u001b[0m         \u001b[0;32mif\u001b[0m \u001b[0mprog\u001b[0m \u001b[0;32mnot\u001b[0m \u001b[0;32min\u001b[0m \u001b[0mself\u001b[0m\u001b[0;34m.\u001b[0m\u001b[0mprogs\u001b[0m\u001b[0;34m:\u001b[0m\u001b[0;34m\u001b[0m\u001b[0;34m\u001b[0m\u001b[0m\n",
      "\u001b[0;31mInvocationException\u001b[0m: GraphViz's executables not found"
     ]
    }
   ],
   "source": [
    "dot_data = StringIO()\n",
    "export_graphviz(modelDesicionTree, \n",
    "                out_file=dot_data,\n",
    "                filled=True, \n",
    "                rounded=True,\n",
    "                feature_names = list(dataset.columns[:13]),\n",
    "                class_names = ['no disease','disease'],\n",
    "                special_characters=True)\n",
    "graph = pydotplus.graph_from_dot_data(dot_data.getvalue())  \n",
    "Image(graph.create_png())"
   ]
  },
  {
   "cell_type": "markdown",
   "metadata": {
    "colab_type": "text",
    "id": "70Uf5IrLUjUn"
   },
   "source": [
    "# Interpretación del modelo obtenido"
   ]
  },
  {
   "cell_type": "markdown",
   "metadata": {},
   "source": [
    "## Entendiendo los contenidos de los nodos\n",
    "Para poder comprender nuestro arbol de decision, debemos analizar detalladamente los elementos presentes en cada nodo\n",
    "\n",
    "### comparacion (Feature):\n",
    "En el primer elemento de arriba a abajo de cada nodo, se encuentra una operacion logica donde se evalua el valor de algun feature en especifico. Esta comparacion es basicamente una pregunta que se realiza a cada muestra (sample) presente en el nodo, cuando un sample cumple con la condicion dada este es enviado al nodo hijo izquierdo, en caso contrario es enviado al nodo hijo derecho\n",
    "\n",
    "### gini\n",
    "El coeficiente de gini es una metrica que cuantifica la pureza de un nodo/hoja. Una coeficiente de gini mayor que cero implica que hay muestras contenidas en el nodo que pertenencen a clases diferentes. Un coeficiente de gini igual a cero significa que el nodo es puro, esto es que en un nodo existen muestras de una sola clase.\n",
    "\n",
    "### samples\n",
    "Este valor es solo una suma de todas las muestras de cada clase contenidas en el nodo\n",
    "\n",
    "### values\n",
    "Values es una lista que indica cuantas muestras en un nodo dado caen en cada categoria. En nuestro caso tenemos en la posicion 0 la categoria 'no disease/no enfermo' y en la 1 la categoria 'disease/enfermo'"
   ]
  },
  {
   "cell_type": "markdown",
   "metadata": {},
   "source": [
    "## Divisiones del arbol"
   ]
  },
  {
   "cell_type": "markdown",
   "metadata": {},
   "source": [
    "Para determinar que feature usar para realizar la primer division (crear el nodo raiz) el algoritmo toma un feature y lo divide. Luego mira los subconjuntos y mide su impureza usando el coeficiente de gini. Esto es realizado para diferentes umbrales y luego determina que la mejor division para un feature dado es aquel que produce los subconjuntos mas puros. Este proceso es repetido para todos los features en el conjunto de entrenamiento. Por ultimo, el nodo raiz es determinado por el feature que produce una division con los subconjuntos mas puros. Una vez que el nodo raiz es decidido, el arbol crece a una profundidad de uno. Este proceso es repetido para los otros nodos en el arbol."
   ]
  },
  {
   "cell_type": "markdown",
   "metadata": {
    "colab_type": "text",
    "id": "5u9fW7ApUjUs"
   },
   "source": [
    "## Modelo de Ingenuo de Bayes\n",
    "\n",
    "Entrenamos modelo de bayes ingenuo\n"
   ]
  },
  {
   "cell_type": "code",
   "execution_count": 10,
   "metadata": {
    "colab": {
     "base_uri": "https://localhost:8080/",
     "height": 52
    },
    "colab_type": "code",
    "id": "bJEJ2_6XUjUw",
    "outputId": "92cce08d-fa10-4a4f-897d-158b46359bd9"
   },
   "outputs": [
    {
     "name": "stdout",
     "output_type": "stream",
     "text": [
      "training set:  82.64462809917356 %\n",
      "test set:  90.1639344262295 %\n",
      "confusion matrix: \n",
      "[[18  2]\n",
      " [ 4 37]]\n"
     ]
    },
    {
     "data": {
      "text/plain": [
       "Text(0.5, 1.0, 'Matriz de Confusión')"
      ]
     },
     "execution_count": 10,
     "metadata": {},
     "output_type": "execute_result"
    },
    {
     "data": {
      "image/png": "[encoded data removed]",
      "text/plain": [
       "<Figure size 432x288 with 1 Axes>"
      ]
     },
     "metadata": {
      "needs_background": "light"
     },
     "output_type": "display_data"
    }
   ],
   "source": [
    "gnb = GaussianNB()\n",
    "\n",
    "gaussianModel = gnb.fit(trainX, trainY)\n",
    "\n",
    "#Print the score on the train data\n",
    "print(\"training set: \", gaussianModel.score(trainX, trainY) * 100, \"%\")\n",
    "#Print the score on the test data\n",
    "print(\"test set: \", gaussianModel.score(testX, testY)*100, \"%\")\n",
    "\n",
    "matrixGaussian = confusion_matrix(gaussianModel.predict(testX), testY)\n",
    "\n",
    "print(\"confusion matrix: \")\n",
    "print(matrixGaussian)\n",
    "\n",
    "label = [0,1]\n",
    "\n",
    "_X = np.arange(len(label))\n",
    "\n",
    "x = [matrixGaussian[0][0], matrixGaussian[1][0]]\n",
    "y = [matrixGaussian[0][1], matrixGaussian[1][1]]\n",
    "\n",
    "training = plt.bar(_X-0.1,x, width=0.2, align='center')\n",
    "test = plt.bar(_X+0.1,y, width=0.2,  align='center')\n",
    "plt.xticks(np.arange(2), ['enfermos','no enfermos'])\n",
    "\n",
    "def autolabel(rects, bars):\n",
    "    for rect,bar in zip(rects,bars):\n",
    "        height = rect.get_height()\n",
    "        plt.text(rect.get_x() + rect.get_width() / 2, height + 0.1, bar,ha='center', va='bottom')\n",
    "\n",
    "autolabel(training,[\"bien\",\"mal\"])\n",
    "autolabel(test,[\"mal\", \"bien\"])\n",
    "\n",
    "plt.title('Matriz de Confusión')"
   ]
  },
  {
   "cell_type": "markdown",
   "metadata": {},
   "source": [
    "## Interpretación del modelo Ingenuo de Bayes"
   ]
  },
  {
   "cell_type": "markdown",
   "metadata": {},
   "source": [
    "La inferencia bayesiana es un método estadístico, en el que el teorema de Bayes se usa para actualizar la probabilidad de una hipótesis a medida que hay más evidencia o información disponible.\n",
    "\n",
    "En este caso, los datos de entrenamiento corresponden a una cantidad de datos considerables de la muestra. El algoritmo consiste en tomar los datos de entrenamiento y calcular la probabilidad de que el atributo target sea 1 ó 0 dados unos valores anteriores.\n",
    "\n",
    "Este metodo no tiene parametros modificables dada la naturaleza de su estrategia para determinar si hay o no enfermedades en el grupo de datos de prueba.\n",
    "\n",
    "Para las pruebas ejecutadas, el exito de las mismas, se encuentra alrededor del 80%, porcentaje cercano al relacionado con el entrenamiento, lo que podria ser interpretado como una consistencia a lo largo del conjunto de datos en la muestra, siendo razonable su probabilidad de acierto dados los datos anteriores para determinar la presencia de enfermedades cardiovasculares."
   ]
  },
  {
   "cell_type": "markdown",
   "metadata": {
    "colab_type": "text",
    "id": "tGY_p6N0UjU5"
   },
   "source": [
    "## Red Neuronal"
   ]
  },
  {
   "cell_type": "code",
   "execution_count": 11,
   "metadata": {
    "colab": {
     "base_uri": "https://localhost:8080/",
     "height": 173
    },
    "colab_type": "code",
    "id": "11pgdFfLUjU9",
    "outputId": "7e2788ce-8e0f-4d82-9a18-232cef93f758"
   },
   "outputs": [
    {
     "name": "stdout",
     "output_type": "stream",
     "text": [
      "On training:  80.99173553719008 %\n",
      "\n",
      "On test:  80.32786885245902 %\n",
      "confusion matrix: \n",
      "[[14  4]\n",
      " [ 8 35]]\n"
     ]
    },
    {
     "data": {
      "text/plain": [
       "Text(0.5, 1.0, 'Matriz de Confusión')"
      ]
     },
     "execution_count": 11,
     "metadata": {},
     "output_type": "execute_result"
    },
    {
     "data": {
      "image/png": "[encoded data removed]",
      "text/plain": [
       "<Figure size 432x288 with 1 Axes>"
      ]
     },
     "metadata": {
      "needs_background": "light"
     },
     "output_type": "display_data"
    }
   ],
   "source": [
    "from sklearn.neural_network import MLPClassifier\n",
    "from sklearn.preprocessing import StandardScaler\n",
    "\n",
    "# NN is sensitive to data scale. We must normilize\n",
    "scaler = StandardScaler()  \n",
    "trainXX = trainX.copy()\n",
    "testXX = testX.copy()\n",
    "# Don't cheat - fit only on training data\n",
    "scaler.fit(trainX)  \n",
    "trainXX = scaler.transform(trainXX)  \n",
    "# apply same transformation to test data\n",
    "testXX = scaler.transform(testXX)  \n",
    "\n",
    "modelNeuralNetwork = MLPClassifier(solver='lbfgs', alpha=1e-3, activation = 'relu', max_iter=5000,\n",
    "                     hidden_layer_sizes = (12,10,8,6,4,2), random_state=1, verbose = True)\n",
    "\n",
    "modelNeuralNetwork.fit(trainXX, trainY)                         \n",
    "\n",
    "#Print the score on the train data\n",
    "print(\"On training: \", modelNeuralNetwork.score(trainXX, trainY)*100, \"%\")\n",
    "#matrix = confusion_matrix(model3.predict(trainXX), trainY)\n",
    "\n",
    "#Print the score on the test data\n",
    "print(\"\\nOn test: \", modelNeuralNetwork.score(testXX, testY)*100, \"%\")\n",
    "\n",
    "matrixNeuralNetwork = confusion_matrix(modelNeuralNetwork.predict(testXX), testY)\n",
    "\n",
    "print(\"confusion matrix: \")\n",
    "print(matrixNeuralNetwork)\n",
    "\n",
    "label = [0,1]\n",
    "\n",
    "_X = np.arange(len(label))\n",
    "\n",
    "\n",
    "x = [matrixNeuralNetwork[0][0], matrixNeuralNetwork[0][1]]\n",
    "y = [matrixNeuralNetwork[1][0], matrixNeuralNetwork[1][1]]\n",
    "\n",
    "training = plt.bar(_X-0.1,x, width=0.2, align='center')\n",
    "test = plt.bar(_X+0.1,y, width=0.2,  align='center')\n",
    "plt.xticks(np.arange(2), ['enfermos','no enfermos'])\n",
    "\n",
    "def autolabel(rects, bars):\n",
    "    for rect,bar in zip(rects,bars):\n",
    "        height = rect.get_height()\n",
    "        plt.text(rect.get_x() + rect.get_width() / 2, height + 0.1, bar,ha='center', va='bottom')\n",
    "\n",
    "autolabel(training,[\"bien\",\"mal\"])\n",
    "autolabel(test,[\"mal\", \"bien\"])\n",
    "\n",
    "plt.title('Matriz de Confusión')\n"
   ]
  },
  {
   "cell_type": "markdown",
   "metadata": {
    "colab": {},
    "colab_type": "code",
    "id": "vci5KcqVUjVN"
   },
   "source": [
    "## Interpretación del modelo de Redes Neuronales"
   ]
  },
  {
   "cell_type": "markdown",
   "metadata": {},
   "source": [
    "<img src=\"mlp_network.png\" alt=\"Figura 1: Perceptron multicapa\" style=\"width: 400px;\"/>"
   ]
  },
  {
   "cell_type": "markdown",
   "metadata": {},
   "source": [
    "Un perceptron multi capa es un algoritmo de aprendizaje supervizado que aprende una funcion $f(\\cdot ):R^{m}\\rightarrow R^{o}$ entrenandose con un conjunto de datos (dataset). donde $m$ es el numero de dimensiones de entrada y $o$ es el numero de dimensiones de salida. Dado un conjunto de catacteristicas $X=x_1,x_2,...,x_m$ y un target $y$, la red puede aprender un aproximador de funcion no lineal para clasificacion o regresion. Entre la capa de entrada y la de salida, puede haber una o más capas no lineales, llamadas capas ocultas. La Figura 1 muestra un MLP de una capa oculta con salida escalar."
   ]
  },
  {
   "cell_type": "markdown",
   "metadata": {},
   "source": [
    "La capa más a la izquierda, conocida como capa de entrada, consiste en un conjunto de neuronas $\\left \\{ x_i|x_1, x_2, ..., x_m \\right \\}$ que representan los features de entrada. Cada neurona en la capa escondida transforma los valores de una capa anterior con una suma lineal ponderada $w_1x_1 +w_2x_2+...+w_mx_m$, seguida de una funcion de activacion no lineal - como la funcion tangente hiperbolica. La función de activación se encarga de devolver una salida a partir de un valor de entrada, normalmente el conjunto de valores de salida en un rango determinado como $(0,1)$ o $(-1,1)$. Se buscan funciones que las derivadas sean simples, para minimizar con ello el coste computacional."
   ]
  },
  {
   "cell_type": "markdown",
   "metadata": {},
   "source": [
    "## MLPClassifier"
   ]
  },
  {
   "cell_type": "markdown",
   "metadata": {},
   "source": [
    "La clase MLPclassifier implementa un algoritmo de perceptron multicapa que entrena usando retropropagacion\n",
    "### Backpropagation \n",
    "\n",
    "Una vez que se ha aplicado un patrón a la entrada de la red como estímulo, este se propaga desde la primera capa a través de las capas siguientes de la red, hasta la ultima capa de la red donde se genera una salida. La señal de salida se compara con la salida deseada y se calcula una señal de error para cada una de las salidas.\n",
    "\n",
    "Esta señal de error se propagan hacia atrás, partiendo de la capa de salida, hacia todas las neuronas de la capa oculta que contribuyen directamente a la salida. Sin embargo las neuronas de la capa oculta solo reciben una fracción de la señal total del error, basándose aproximadamente en la contribución relativa que haya aportado cada neurona a la salida original. Este proceso se repite, capa por capa, hasta que todas las neuronas de la red hayan recibido una señal de error que describa su contribución relativa al error total.\n",
    "\n",
    "La importancia de este proceso consiste en que, a medida que se entrena la red, las neuronas de las capas intermedias se organizan a sí mismas de tal modo que las distintas neuronas aprenden a reconocer distintas características del espacio total de entrada."
   ]
  },
  {
   "cell_type": "markdown",
   "metadata": {},
   "source": [
    "## Comparación de los 3 modelos\n",
    "\n",
    "Compare los resultados de los 3 modelos usados en términos de la precisión, la estabilidad y la interpretabilidad de los resultados.\n",
    "\n",
    "## Precisión\n",
    "\n",
    "Cuando predice positivo, porcentaje clasificado correctamente ${vp} / {prediccion positivos}$, se busca un valor cercano a 1\n"
   ]
  },
  {
   "cell_type": "code",
   "execution_count": 14,
   "metadata": {},
   "outputs": [
    {
     "name": "stdout",
     "output_type": "stream",
     "text": [
      "precision arbol de decision 0.5454545454545454\n",
      "precision modelo de bayes 0.8181818181818182\n",
      "precision red neuronal 0.6363636363636364\n"
     ]
    }
   ],
   "source": [
    "print(\"precision arbol de decision\",matrixDecisionTree[0][0] / (matrixDecisionTree[0][0] + matrixDecisionTree[1][0]))\n",
    "print(\"precision modelo de bayes\",matrixGaussian[0][0]/(matrixGaussian[0][0]+ matrixGaussian[1][0]))\n",
    "print(\"precision red neuronal\",matrixNeuralNetwork[0][0] / (matrixNeuralNetwork[0][0] + matrixNeuralNetwork[1][0])) "
   ]
  },
  {
   "cell_type": "markdown",
   "metadata": {},
   "source": [
    "## Estabilidad \n",
    "\n",
    "Diferencia entre el puntaje del conjunto de entrenamiento y el conjunto de prueba, se busca que sea pequeña"
   ]
  },
  {
   "cell_type": "code",
   "execution_count": 15,
   "metadata": {},
   "outputs": [
    {
     "name": "stdout",
     "output_type": "stream",
     "text": [
      "estabilidad arbol de decision 26.21595989703293\n",
      "estabilidad modelo de bayes 7.5193063270559435\n",
      "estabilidad red neuronal 0.6638666847310617\n"
     ]
    }
   ],
   "source": [
    "print(\"estabilidad arbol de decision\",abs(modelDesicionTree.score(trainX, trainY)*100 - modelDesicionTree.score(testX, testY)*100))\n",
    "print(\"estabilidad modelo de bayes\",abs(gaussianModel.score(trainX, trainY) * 100 - gaussianModel.score(testX, testY) * 100))\n",
    "print(\"estabilidad red neuronal\",abs(modelNeuralNetwork.score(trainXX, trainY)*100 - modelNeuralNetwork.score(testXX, testY)*100))"
   ]
  },
  {
   "cell_type": "markdown",
   "metadata": {},
   "source": [
    "## Interpretabilidad\n",
    "\n"
   ]
  },
  {
   "cell_type": "markdown",
   "metadata": {},
   "source": [
    "## Comparación \n",
    "\n",
    "Primero se busco cuales son los factores que pueden provocar enfermedades del corazon y si alguna esta presente entre los datos proporcionados por el conjunto de datos, entre ellos encontramos: \n",
    "\n",
    "- hipertension - presente en el conjunto de datos\n",
    "- nivel de colesterol alto - presente en el conjunto de datos\n",
    "- diabetes - presente en el conjunto de datos\n",
    "- obesidad y sobrepeso\n",
    "- tabaquismo\n",
    "- inactividad fisica\n",
    "- sexo masculino - presente en el conjunto de datos\n",
    "- hereditario\n",
    "- edad avanzada - presente en el conjunto de datos\n",
    "\n",
    "entre otros\n",
    "\n",
    "[fuente](https://www.texasheart.org/heart-health/heart-information-center/topics/factores-de-riesgo-cardiovascular/)\n",
    "\n",
    "Algunos de los datos en el conjunto de datos son factores de riesgo reconocidos hoy en dia para el diagnostico.\n",
    "\n",
    "Revisando los resultados obtenidos de precision y estabilidad, el arbol de decision tanto en precision como en estabilidad presenta resultados no cercanos al deseado, y tanto los del modelo ingenuo de bayes como redes neuronales presentan resultados en estos aceptables.\n",
    "\n",
    "Respecto al modelo ingenuo de bayes ya que es un metodo estadistico, y entre los datos habia factores de riesgo, era un metodo apropiado y tenia los factores para funcionar correctamente."
   ]
  },
  {
   "cell_type": "code",
   "execution_count": null,
   "metadata": {},
   "outputs": [],
   "source": []
  }
 ],
 "metadata": {
  "colab": {
   "name": "IA.ipynb",
   "provenance": [],
   "version": "0.3.2"
  },
  "kernelspec": {
   "display_name": "Python 3",
   "language": "python",
   "name": "python3"
  },
  "language_info": {
   "codemirror_mode": {
    "name": "ipython",
    "version": 3
   },
   "file_extension": ".py",
   "mimetype": "text/x-python",
   "name": "python",
   "nbconvert_exporter": "python",
   "pygments_lexer": "ipython3",
   "version": "3.7.3"
  }
 },
 "nbformat": 4,
 "nbformat_minor": 1
}
